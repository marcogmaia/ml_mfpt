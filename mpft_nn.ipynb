{
 "cells": [
  {
   "cell_type": "code",
   "execution_count": 135,
   "metadata": {},
   "outputs": [
    {
     "name": "stdout",
     "output_type": "stream",
     "text": [
      "CUDA disponível. Processamento em GPU!\n"
     ]
    }
   ],
   "source": [
    "import matplotlib.pyplot as plt\n",
    "import numpy as np\n",
    "import torch\n",
    "import torch.nn as nn\n",
    "import torch.backends.cudnn as cudnn\n",
    "\n",
    "from torch.utils.data import DataLoader, Dataset\n",
    "\n",
    "from sklearn.model_selection import train_test_split\n",
    "\n",
    "usar_gpu = torch.cuda.is_available()\n",
    "# usar_gpu = False\n",
    "if usar_gpu:\n",
    "    print(\"CUDA disponível. Processamento em GPU!\")\n",
    "else:\n",
    "    print(\"CUDA NÃO disponível. Processamento em CPU!\")\n"
   ]
  },
  {
   "cell_type": "code",
   "execution_count": 136,
   "metadata": {},
   "outputs": [],
   "source": [
    "class NeuralNet(nn.Module):\n",
    "    def __init__(self) -> None:\n",
    "        super(NeuralNet, self).__init__()\n",
    "\n",
    "        self.seq1 = nn.Sequential(nn.Linear(5, 10), nn.Sigmoid())\n",
    "        self.seq2 = nn.Sequential(nn.Linear(10, 50), nn.ReLU(inplace=True), nn.Dropout2d())\n",
    "        self.seq21 = nn.Sequential(nn.Linear(50, 50), nn.ReLU(inplace=True), nn.Dropout())\n",
    "        self.seq3 = nn.Sequential(nn.Linear(50, 10), nn.ReLU(inplace=True))\n",
    "        self.seq4 = nn.Sequential(nn.Linear(10, 3), nn.Sigmoid())\n",
    "\n",
    "        self.net = nn.Sequential(self.seq1, self.seq2, self.seq21, self.seq3, self.seq4)\n",
    "\n",
    "    def forward(self, x):\n",
    "        # o = self.seq1(x)\n",
    "        # o = self.seq2(o)\n",
    "        # o = self.seq21(o)\n",
    "        # o = self.seq3(o)\n",
    "        # o = self.seq4(o)\n",
    "\n",
    "        return self.net(x)\n",
    "\n",
    "        # return o\n"
   ]
  },
  {
   "cell_type": "code",
   "execution_count": 137,
   "metadata": {},
   "outputs": [
    {
     "name": "stdout",
     "output_type": "stream",
     "text": [
      "train shapes: (1019, 5) (1019,)\n",
      "test shapes:  (437, 5) (437,)\n"
     ]
    }
   ],
   "source": [
    "class MFPTDataset(Dataset):\n",
    "    def __init__(self, xs, ys) -> None:\n",
    "        super().__init__()\n",
    "        self.features = xs\n",
    "        self.labels = ys\n",
    "\n",
    "    def __len__(self):\n",
    "        return len(self.labels)\n",
    "    \n",
    "    def __getitem__(self, index) :\n",
    "        return self.features[index], self.labels[index]\n",
    "\n",
    "data = np.load(\"MFPT_Features_3labels.npz\")\n",
    "\n",
    "x, y = data[\"x_features\"], data[\"y_labels\"]\n",
    "xtrain, xtest, ytrain, ytest = train_test_split(x, y, test_size=0.3, random_state=4)\n",
    "\n",
    "batch_size = 25\n",
    "train_loader = DataLoader(MFPTDataset(xtrain, ytrain), batch_size, shuffle=True)\n",
    "test_loader = DataLoader(MFPTDataset(xtest, ytest), batch_size, shuffle=True)\n",
    "\n",
    "print(\"train shapes:\", xtrain.shape, ytrain.shape)\n",
    "print(\"test shapes: \", xtest.shape, ytest.shape)\n"
   ]
  },
  {
   "cell_type": "code",
   "execution_count": 138,
   "metadata": {},
   "outputs": [],
   "source": [
    "model = NeuralNet()\n",
    "# print(model)\n",
    "\n",
    "if usar_gpu:\n",
    "    torch.cuda.init()\n",
    "    model.cuda()\n",
    "    cudnn.benchmark = True"
   ]
  },
  {
   "cell_type": "code",
   "execution_count": 139,
   "metadata": {},
   "outputs": [],
   "source": [
    "\n",
    "criterion = nn.CrossEntropyLoss()\n",
    "optimizer = torch.optim.Adam(model.parameters(), lr=1e-3)"
   ]
  },
  {
   "cell_type": "code",
   "execution_count": 140,
   "metadata": {},
   "outputs": [
    {
     "name": "stdout",
     "output_type": "stream",
     "text": [
      "Epoca 200/200 \t Loss de Treinamento: 0.02793051302433014\n"
     ]
    },
    {
     "data": {
      "image/png": "[encoded data removed]",
      "text/plain": [
       "<Figure size 432x288 with 1 Axes>"
      ]
     },
     "metadata": {
      "needs_background": "light"
     },
     "output_type": "display_data"
    },
    {
     "data": {
      "image/png": "[encoded data removed]",
      "text/plain": [
       "<Figure size 432x288 with 1 Axes>"
      ]
     },
     "metadata": {
      "needs_background": "light"
     },
     "output_type": "display_data"
    }
   ],
   "source": [
    "n_epochs = 200\n",
    "\n",
    "def get_acc():\n",
    "    ytrue = []\n",
    "    ypred = []\n",
    "    loss_test = 0\n",
    "    score = 0\n",
    "    global model\n",
    "    global ytest\n",
    "    model.eval()\n",
    "    with torch.no_grad():\n",
    "        for (x, y) in test_loader:\n",
    "            if usar_gpu:\n",
    "                x, y = x.float().cuda(), y.cuda()\n",
    "\n",
    "            eout = model(x)\n",
    "            loss = criterion(eout, y)\n",
    "            loss_test += loss\n",
    "            _, predicted = torch.max(eout.data, 1)\n",
    "            # print(tp, fp, tn, fn)\n",
    "            score += torch.sum(predicted == y).float()\n",
    "\n",
    "            # conf matrix\n",
    "            ytrue.append(y.detach().cpu().numpy().flatten())\n",
    "            ypred.append(predicted.detach().cpu().numpy().flatten())\n",
    "    acc = score.detach().cpu() / len(ytest)\n",
    "    return acc\n",
    "\n",
    "\n",
    "loss_total = 0\n",
    "es = []\n",
    "accs = []\n",
    "for e in range(n_epochs):\n",
    "    es.append(e)\n",
    "    model.train()\n",
    "    for batch_idx, (x, y) in enumerate(train_loader):\n",
    "        if usar_gpu:\n",
    "            x, y = x.float().cuda(), y.cuda()\n",
    "        optimizer.zero_grad()\n",
    "        output = model(x)\n",
    "        loss = criterion(output, y)\n",
    "        loss.backward()\n",
    "        optimizer.step()\n",
    "        loss_total += loss\n",
    "\n",
    "    loss_total = loss_total / len(ytrain)\n",
    "    plt.scatter(e, loss_total.detach().cpu().numpy(), c='blue')\n",
    "    accs.append(get_acc())\n",
    "print(f\"Epoca {e+1}/{n_epochs} \\t Loss de Treinamento: {loss_total}\")\n",
    "plt.show()\n",
    "plt.scatter(es, accs)\n",
    "plt.show()\n"
   ]
  },
  {
   "cell_type": "code",
   "execution_count": 141,
   "metadata": {},
   "outputs": [
    {
     "name": "stdout",
     "output_type": "stream",
     "text": [
      "accuracy: 0.6636155843734741\n"
     ]
    }
   ],
   "source": [
    "model.eval()\n",
    "\n",
    "loss_test = 0\n",
    "\n",
    "score = 0\n",
    "\n",
    "ttp = 0\n",
    "ttn = 0\n",
    "tfn = 0\n",
    "tfp = 0\n",
    "correct_true = 0\n",
    "total_elem = 0\n",
    "\n",
    "\n",
    "def confusion(prediction, truth):\n",
    "    \"\"\" Returns the confusion matrix for the values in the `prediction` and `truth`\n",
    "    tensors, i.e. the amount of positions where the values of `prediction`\n",
    "    and `truth` are\n",
    "    - 1 and 1 (True Positive)\n",
    "    - 1 and 0 (False Positive)\n",
    "    - 0 and 0 (True Negative)\n",
    "    - 0 and 1 (False Negative)\n",
    "    \"\"\"\n",
    "\n",
    "    confusion_vector = prediction / truth\n",
    "    # Element-wise division of the 2 tensors returns a new tensor which holds a\n",
    "    # unique value for each case:\n",
    "    #   1     where prediction and truth are 1 (True Positive)\n",
    "    #   inf   where prediction is 1 and truth is 0 (False Positive)\n",
    "    #   nan   where prediction and truth are 0 (True Negative)\n",
    "    #   0     where prediction is 0 and truth is 1 (False Negative)\n",
    "\n",
    "    # true_positives = torch.sum(confusion_vector == 1).item()\n",
    "    true_positives = torch.sum(confusion_vector == 1).item()\n",
    "    false_positives = torch.sum(confusion_vector == float(\"inf\")).item()\n",
    "    true_negatives = torch.sum(torch.isnan(confusion_vector)).item()\n",
    "    false_negatives = torch.sum(confusion_vector == 0).item()\n",
    "\n",
    "    return true_positives, false_positives, true_negatives, false_negatives\n",
    "\n",
    "\n",
    "\n",
    "# ytrue = []\n",
    "# ypred = []\n",
    "# with torch.no_grad():\n",
    "#     for (x, y) in test_loader:\n",
    "#         if usar_gpu:\n",
    "#             x, y = x.float().cuda(), y.cuda()\n",
    "\n",
    "#         eout = model(x)\n",
    "#         loss = criterion(eout, y)\n",
    "#         loss_test += loss\n",
    "#         _, predicted = torch.max(eout.data, 1)\n",
    "\n",
    "#         tp, fp, tn, fn = confusion(predicted, y)\n",
    "#         total_elem += tp + fp + tn + fn\n",
    "#         ttp += tp\n",
    "#         ttn += tn\n",
    "#         tfp += fp\n",
    "#         tfn += fn\n",
    "#         # print(tp, fp, tn, fn)\n",
    "#         score += torch.sum(predicted == y).float()\n",
    "\n",
    "#         # conf matrix\n",
    "#         ytrue.append(y.detach().cpu().numpy().flatten())\n",
    "#         ypred.append(predicted.detach().cpu().numpy().flatten())\n",
    "\n",
    "\n",
    "print(f\"accuracy: {get_acc()}\")\n"
   ]
  },
  {
   "cell_type": "code",
   "execution_count": 142,
   "metadata": {},
   "outputs": [
    {
     "data": {
      "image/png": "[encoded data removed]",
      "text/plain": [
       "<Figure size 432x288 with 2 Axes>"
      ]
     },
     "metadata": {
      "needs_background": "light"
     },
     "output_type": "display_data"
    }
   ],
   "source": [
    "import sklearn.metrics as metrics\n",
    "\n",
    "def concat_ndarray(arr:np.ndarray) -> np.ndarray:\n",
    "    ret = np.array([])  \n",
    "    for i in arr:\n",
    "        ret = np.concatenate([ret, i])\n",
    "    return ret\n",
    "\n",
    "yt = concat_ndarray(ytrue)\n",
    "yp = concat_ndarray(ypred)\n",
    "\n",
    "metrics.confusion_matrix(yt, yp)\n",
    "metrics.ConfusionMatrixDisplay.from_predictions(yt, yp, normalize='all', cmap='Blues')\n",
    "plt.title(\"Confusion Matrix\")\n",
    "plt.show()"
   ]
  }
 ],
 "metadata": {
  "interpreter": {
   "hash": "7288d0bce5149ee2daaefb160e1470a0e67cb78fb53fd4627ee4db88edda5309"
  },
  "kernelspec": {
   "display_name": "Python 3.8.12 64-bit ('ML': conda)",
   "language": "python",
   "name": "python3"
  },
  "language_info": {
   "codemirror_mode": {
    "name": "ipython",
    "version": 3
   },
   "file_extension": ".py",
   "mimetype": "text/x-python",
   "name": "python",
   "nbconvert_exporter": "python",
   "pygments_lexer": "ipython3",
   "version": "3.8.12"
  },
  "orig_nbformat": 4
 },
 "nbformat": 4,
 "nbformat_minor": 2
}
