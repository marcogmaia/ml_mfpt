{
 "cells": [
  {
   "cell_type": "code",
   "execution_count": 2,
   "metadata": {},
   "outputs": [
    {
     "name": "stdout",
     "output_type": "stream",
     "text": [
      "CUDA disponível. Processamento em GPU!\n"
     ]
    }
   ],
   "source": [
    "import matplotlib.pyplot as plt\n",
    "import numpy as np\n",
    "import torch\n",
    "import torch.nn as nn\n",
    "import torch.backends.cudnn as cudnn\n",
    "\n",
    "from torch.utils.data import DataLoader, Dataset\n",
    "\n",
    "from sklearn.model_selection import train_test_split\n",
    "\n",
    "usar_gpu = torch.cuda.is_available()\n",
    "# usar_gpu = False\n",
    "if usar_gpu:\n",
    "    print(\"CUDA disponível. Processamento em GPU!\")\n",
    "else:\n",
    "    print(\"CUDA NÃO disponível. Processamento em CPU!\")\n"
   ]
  },
  {
   "cell_type": "code",
   "execution_count": 3,
   "metadata": {},
   "outputs": [],
   "source": [
    "class NeuralNet(nn.Module):\n",
    "    def __init__(self) -> None:\n",
    "        super(NeuralNet, self).__init__()\n",
    "\n",
    "        self.seq1 = nn.Sequential(nn.Linear(5, 10), nn.Sigmoid())\n",
    "        self.seq2 = nn.Sequential(nn.Linear(10, 50), nn.ReLU(inplace=True))\n",
    "        self.seq21 = nn.Sequential(nn.Linear(50, 50), nn.ReLU(inplace=True))\n",
    "        self.seq3 = nn.Sequential(nn.Linear(50, 10), nn.ReLU(inplace=True))\n",
    "        self.seq4 = nn.Sequential(nn.Linear(10, 2), nn.Sigmoid())\n",
    "\n",
    "    def forward(self, x):\n",
    "        o = self.seq1(x)\n",
    "        o = self.seq2(o)\n",
    "        o = self.seq21(o)\n",
    "        o = self.seq3(o)\n",
    "        o = self.seq4(o)\n",
    "\n",
    "        return o\n"
   ]
  },
  {
   "cell_type": "code",
   "execution_count": 4,
   "metadata": {},
   "outputs": [
    {
     "name": "stdout",
     "output_type": "stream",
     "text": [
      "train shapes: (1019, 5) (1019,)\n",
      "test shapes:  (437, 5) (437,)\n"
     ]
    }
   ],
   "source": [
    "class MFPTDataset(Dataset):\n",
    "    def __init__(self, xs, ys) -> None:\n",
    "        super().__init__()\n",
    "        self.features = xs\n",
    "        self.labels = ys\n",
    "\n",
    "    def __len__(self):\n",
    "        return len(self.labels)\n",
    "    \n",
    "    def __getitem__(self, index) :\n",
    "        return self.features[index], self.labels[index]\n",
    "\n",
    "data = np.load(\"MFPT_Features.npz\")\n",
    "\n",
    "x, y = data[\"x_features\"], data[\"y_labels\"]\n",
    "xtrain, xtest, ytrain, ytest = train_test_split(x, y, test_size=0.3, random_state=4)\n",
    "\n",
    "batch_size = 25\n",
    "train_loader = DataLoader(MFPTDataset(xtrain, ytrain), batch_size, shuffle=True)\n",
    "test_loader = DataLoader(MFPTDataset(xtest, ytest), batch_size, shuffle=True)\n",
    "\n",
    "print(\"train shapes:\", xtrain.shape, ytrain.shape)\n",
    "print(\"test shapes: \", xtest.shape, ytest.shape)\n"
   ]
  },
  {
   "cell_type": "code",
   "execution_count": 5,
   "metadata": {},
   "outputs": [],
   "source": [
    "model = NeuralNet()\n",
    "# print(model)\n",
    "\n",
    "if usar_gpu:\n",
    "    torch.cuda.init()\n",
    "    model.cuda()\n",
    "    cudnn.benchmark = True"
   ]
  },
  {
   "cell_type": "code",
   "execution_count": 6,
   "metadata": {},
   "outputs": [],
   "source": [
    "\n",
    "criterion = nn.CrossEntropyLoss()\n",
    "optimizer = torch.optim.Adam(model.parameters(), lr=1e-3)"
   ]
  },
  {
   "cell_type": "code",
   "execution_count": 7,
   "metadata": {},
   "outputs": [
    {
     "name": "stdout",
     "output_type": "stream",
     "text": [
      "Epoca 500/500 \t Loss de Treinamento: 0.013667087070643902\n"
     ]
    },
    {
     "data": {
      "image/png": "[encoded data removed]",
      "text/plain": [
       "<Figure size 432x288 with 1 Axes>"
      ]
     },
     "metadata": {
      "needs_background": "light"
     },
     "output_type": "display_data"
    }
   ],
   "source": [
    "n_epochs = 500\n",
    "\n",
    "loss_total = 0\n",
    "for e in range(n_epochs):\n",
    "    model.train()\n",
    "    for batch_idx, (x, y) in enumerate(train_loader):\n",
    "        if usar_gpu:\n",
    "            x, y = x.float().cuda(), y.cuda()\n",
    "        optimizer.zero_grad()\n",
    "        output = model(x)\n",
    "        loss = criterion(output, y)\n",
    "        loss.backward()\n",
    "        optimizer.step()\n",
    "        loss_total += loss\n",
    "\n",
    "    # model.eval()\n",
    "    # score = 0\n",
    "    # loss_test = 0\n",
    "    # target_true = 0\n",
    "    # pred_true = 0\n",
    "    # correct_true = 0\n",
    "    # for (x, y) in test_loader:\n",
    "    #     if usar_gpu:\n",
    "    #         x, y = x.float().cuda(), y.cuda()\n",
    "\n",
    "    #     eout = model(x)\n",
    "    #     loss = criterion(eout, y)\n",
    "    #     loss_test += loss\n",
    "\n",
    "    #     _, predicted = torch.max(eout.data, 1)\n",
    "\n",
    "    #     for label, pred in zip(y, predicted):\n",
    "    #         if label == pred:\n",
    "    #             score += 1\n",
    "\n",
    "        # fscore\n",
    "    #     target_true += torch.sum(y == 1).float()\n",
    "    #     pred_true += torch.sum(predicted == 1).float()\n",
    "    #     correct_true += torch.sum((pred_true == y[:]) * (predicted == 1)).float()\n",
    "    #     print(correct_true)\n",
    "    # plt.scatter(e, loss_test.detach().cpu().numpy(), c='red')\n",
    "    # recall = correct_true/target_true\n",
    "    # precision = correct_true / pred_true\n",
    "    # fscore = 2 * precision * recall / (precision + recall)\n",
    "    # print(fscore)\n",
    "        \n",
    "\n",
    "    loss_total = loss_total / len(ytrain)\n",
    "    plt.scatter(e, loss_total.detach().cpu().numpy(), c='blue')\n",
    "print(f\"Epoca {e+1}/{n_epochs} \\t Loss de Treinamento: {loss_total}\")\n",
    "plt.show()\n"
   ]
  },
  {
   "cell_type": "code",
   "execution_count": 66,
   "metadata": {},
   "outputs": [
    {
     "name": "stdout",
     "output_type": "stream",
     "text": [
      "precis: 0.9965870307167235\n",
      "recall: 0.9864864864864865\n",
      "fscore: 0.9915110356536503\n",
      "acc:    0.988558292388916, score: 432.0, len: 437\n",
      "acc:    0.988558352402746, total_elem: 437\n",
      "matriz de confusão:\n",
      "[[292   4]\n",
      " [  1 140]]\n"
     ]
    }
   ],
   "source": [
    "model.eval()\n",
    "\n",
    "loss_test = 0\n",
    "\n",
    "score = 0\n",
    "\n",
    "ttp = 0\n",
    "ttn = 0\n",
    "tfn = 0\n",
    "tfp = 0\n",
    "correct_true = 0\n",
    "total_elem = 0\n",
    "\n",
    "\n",
    "def confusion(prediction, truth):\n",
    "    \"\"\" Returns the confusion matrix for the values in the `prediction` and `truth`\n",
    "    tensors, i.e. the amount of positions where the values of `prediction`\n",
    "    and `truth` are\n",
    "    - 1 and 1 (True Positive)\n",
    "    - 1 and 0 (False Positive)\n",
    "    - 0 and 0 (True Negative)\n",
    "    - 0 and 1 (False Negative)\n",
    "    \"\"\"\n",
    "\n",
    "    confusion_vector = prediction / truth\n",
    "    # Element-wise division of the 2 tensors returns a new tensor which holds a\n",
    "    # unique value for each case:\n",
    "    #   1     where prediction and truth are 1 (True Positive)\n",
    "    #   inf   where prediction is 1 and truth is 0 (False Positive)\n",
    "    #   nan   where prediction and truth are 0 (True Negative)\n",
    "    #   0     where prediction is 0 and truth is 1 (False Negative)\n",
    "\n",
    "    # true_positives = torch.sum(confusion_vector == 1).item()\n",
    "    true_positives = torch.sum(confusion_vector == 1).item()\n",
    "    false_positives = torch.sum(confusion_vector == float(\"inf\")).item()\n",
    "    true_negatives = torch.sum(torch.isnan(confusion_vector)).item()\n",
    "    false_negatives = torch.sum(confusion_vector == 0).item()\n",
    "\n",
    "    return true_positives, false_positives, true_negatives, false_negatives\n",
    "\n",
    "\n",
    "ytrue = []\n",
    "ypred = []\n",
    "with torch.no_grad():\n",
    "    for (x, y) in test_loader:\n",
    "        if usar_gpu:\n",
    "            x, y = x.float().cuda(), y.cuda()\n",
    "\n",
    "        eout = model(x)\n",
    "        loss = criterion(eout, y)\n",
    "        loss_test += loss\n",
    "        _, predicted = torch.max(eout.data, 1)\n",
    "\n",
    "        tp, fp, tn, fn = confusion(predicted, y)\n",
    "        total_elem += tp + fp + tn + fn\n",
    "        ttp += tp\n",
    "        ttn += tn\n",
    "        tfp += fp\n",
    "        tfn += fn\n",
    "        # print(tp, fp, tn, fn)\n",
    "        score += torch.sum(predicted == y).float()\n",
    "\n",
    "        # conf matrix\n",
    "        ytrue.append(y.detach().cpu().numpy().flatten())\n",
    "        ypred.append(predicted.detach().cpu().numpy().flatten())\n",
    "\n",
    "\n",
    "precision = ttp / (ttp + tfp)\n",
    "recall = ttp / (ttp + tfn)\n",
    "fscore = ttp / (ttp + (tfp + tfn) / 2)\n",
    "\n",
    "print(f\"precis: {precision}\")\n",
    "print(f\"recall: {recall}\")\n",
    "print(f\"fscore: {fscore}\")\n",
    "print(f\"acc:    {score/len(ytest)}, score: {score}, len: {len(ytest)}\")\n",
    "print(f\"acc:    {(ttp+ttn)/(total_elem)}, total_elem: {total_elem}\")\n",
    "\n",
    "print(\"matriz de confusão:\")\n",
    "cm = np.array([[ttp, tfn], [tfp, ttn]])\n",
    "# cm = cm / cm.sum()\n",
    "print(cm)\n",
    "\n",
    "# TODO\n",
    "# analisar o desbalanceamento dos dados\n",
    "# ver isso na aula em que ele explica direitinho sobre o f-score/measure\n",
    "# também plotar a matriz de confusão\n"
   ]
  },
  {
   "cell_type": "code",
   "execution_count": 65,
   "metadata": {},
   "outputs": [
    {
     "data": {
      "image/png": "[encoded data removed]",
      "text/plain": [
       "<Figure size 432x288 with 2 Axes>"
      ]
     },
     "metadata": {
      "needs_background": "light"
     },
     "output_type": "display_data"
    }
   ],
   "source": [
    "import sklearn.metrics as metrics\n",
    "\n",
    "# metrics.confusion_matrix()\n",
    "yt = np.array( ytrue[0])\n",
    "for i in range(1,len(ytrue)):\n",
    "    yt = np.concatenate((yt, ytrue[i]))\n",
    "\n",
    "yp = np.array( ypred[0])\n",
    "for i in range(1,len(ypred)):\n",
    "    yp = np.concatenate((yp, ypred[i]))\n",
    "\n",
    "metrics.confusion_matrix(yt, yp)\n",
    "metrics.ConfusionMatrixDisplay.from_predictions(yt, yp, normalize='all')\n",
    "plt.show()"
   ]
  }
 ],
 "metadata": {
  "interpreter": {
   "hash": "7288d0bce5149ee2daaefb160e1470a0e67cb78fb53fd4627ee4db88edda5309"
  },
  "kernelspec": {
   "display_name": "Python 3.8.12 64-bit ('ML': conda)",
   "language": "python",
   "name": "python3"
  },
  "language_info": {
   "codemirror_mode": {
    "name": "ipython",
    "version": 3
   },
   "file_extension": ".py",
   "mimetype": "text/x-python",
   "name": "python",
   "nbconvert_exporter": "python",
   "pygments_lexer": "ipython3",
   "version": "3.8.12"
  },
  "orig_nbformat": 4
 },
 "nbformat": 4,
 "nbformat_minor": 2
}
